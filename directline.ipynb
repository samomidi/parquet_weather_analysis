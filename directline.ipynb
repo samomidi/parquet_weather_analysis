{
 "cells": [
  {
   "cell_type": "markdown",
   "metadata": {},
   "source": [
    "# Import Libraries"
   ]
  },
  {
   "cell_type": "code",
   "execution_count": 9,
   "metadata": {},
   "outputs": [],
   "source": [
    "import pandas as pd\n",
    "import pyarrow as pa\n",
    "import pyarrow.parquet as pq\n",
    "import glob\n",
    "import dask.dataframe as dd"
   ]
  },
  {
   "cell_type": "markdown",
   "metadata": {},
   "source": [
    "# Function to read CSV files\n",
    "This can be more enhanced using parameters if needed rather than writing new code"
   ]
  },
  {
   "cell_type": "code",
   "execution_count": 16,
   "metadata": {},
   "outputs": [],
   "source": [
    "def read_csv(filename):\n",
    "    return pd.read_csv(\n",
    "        filename\n",
    "    )"
   ]
  },
  {
   "cell_type": "markdown",
   "metadata": {},
   "source": [
    "# Start of main analysis"
   ]
  },
  {
   "cell_type": "markdown",
   "metadata": {},
   "source": [
    "Reading the entire forlder for CSV files"
   ]
  },
  {
   "cell_type": "code",
   "execution_count": 15,
   "metadata": {},
   "outputs": [
    {
     "data": {
      "text/plain": [
       "['data\\\\weather.20160201.csv', 'data\\\\weather.20160301.csv']"
      ]
     },
     "execution_count": 15,
     "metadata": {},
     "output_type": "execute_result"
    }
   ],
   "source": [
    "files = glob.glob(\"data/*.csv\")\n",
    "files"
   ]
  },
  {
   "cell_type": "markdown",
   "metadata": {},
   "source": [
    "Mapping all the CSV files to our function"
   ]
  },
  {
   "cell_type": "code",
   "execution_count": 18,
   "metadata": {},
   "outputs": [
    {
     "data": {
      "text/plain": [
       "[       ForecastSiteCode  ObservationTime      ObservationDate  WindDirection  \\\n",
       " 0                  3002                0  2016-02-01T00:00:00             12   \n",
       " 1                  3005                0  2016-02-01T00:00:00             10   \n",
       " 2                  3008                0  2016-02-01T00:00:00              8   \n",
       " 3                  3017                0  2016-02-01T00:00:00              6   \n",
       " 4                  3023                0  2016-02-01T00:00:00             10   \n",
       " ...                 ...              ...                  ...            ...   \n",
       " 93250              3797               23  2016-02-29T00:00:00              8   \n",
       " 93251              3866               23  2016-02-29T00:00:00             11   \n",
       " 93252              3872               23  2016-02-29T00:00:00             10   \n",
       " 93253              3876               23  2016-02-29T00:00:00             11   \n",
       " 93254              3882               23  2016-02-29T00:00:00             10   \n",
       " \n",
       "        WindSpeed  WindGust  Visibility  ScreenTemperature  Pressure  \\\n",
       " 0              8       NaN     30000.0                2.1     997.0   \n",
       " 1              2       NaN     35000.0                0.1     997.0   \n",
       " 2              6       NaN     50000.0                2.8     997.0   \n",
       " 3              8       NaN     40000.0                1.6     996.0   \n",
       " 4             30      37.0      2600.0                9.8     991.0   \n",
       " ...          ...       ...         ...                ...       ...   \n",
       " 93250          7       NaN     25000.0                2.3    1025.0   \n",
       " 93251         14       NaN         NaN                6.4    1025.0   \n",
       " 93252          8       NaN     35000.0                5.7    1025.0   \n",
       " 93253          6       NaN         NaN                5.5    1025.0   \n",
       " 93254          2       NaN     18000.0                4.3    1025.0   \n",
       " \n",
       "        SignificantWeatherCode                      SiteName  Latitude  \\\n",
       " 0                           8             BALTASOUND (3002)   60.7490   \n",
       " 1                           7    LERWICK (S. SCREEN) (3005)   60.1390   \n",
       " 2                         -99              FAIR ISLE (3008)   59.5300   \n",
       " 3                           8               KIRKWALL (3017)   58.9540   \n",
       " 4                          11       SOUTH UIST RANGE (3023)   57.3580   \n",
       " ...                       ...                           ...       ...   \n",
       " 93250                       8                MANSTON (3797)   51.3422   \n",
       " 93251                     -99      ST CATHERINES PT. (3866)   50.5770   \n",
       " 93252                       8         THORNEY ISLAND (3872)   50.8200   \n",
       " 93253                     -99               SHOREHAM (3876)   50.8360   \n",
       " 93254                       7  HERSTMONCEUX WEST END (3882)   50.8900   \n",
       " \n",
       "        Longitude                       Region   Country  \n",
       " 0        -0.8540            Orkney & Shetland  SCOTLAND  \n",
       " 1        -1.1830            Orkney & Shetland  SCOTLAND  \n",
       " 2        -1.6300            Orkney & Shetland       NaN  \n",
       " 3        -2.9000            Orkney & Shetland  SCOTLAND  \n",
       " 4        -7.3970       Highland & Eilean Siar  SCOTLAND  \n",
       " ...          ...                          ...       ...  \n",
       " 93250     1.3461  London & South East England   ENGLAND  \n",
       " 93251    -1.2970  London & South East England   ENGLAND  \n",
       " 93252    -0.9200  London & South East England       NaN  \n",
       " 93253    -0.2920  London & South East England   ENGLAND  \n",
       " 93254     0.3190  London & South East England   ENGLAND  \n",
       " \n",
       " [93255 rows x 15 columns],\n",
       "         ForecastSiteCode  ObservationTime      ObservationDate  WindDirection  \\\n",
       " 0                   3002                0  2016-03-01T00:00:00              8   \n",
       " 1                   3005                0  2016-03-01T00:00:00              8   \n",
       " 2                   3008                0  2016-03-01T00:00:00              7   \n",
       " 3                   3017                0  2016-03-01T00:00:00              7   \n",
       " 4                   3023                0  2016-03-01T00:00:00             10   \n",
       " ...                  ...              ...                  ...            ...   \n",
       " 101437              3797               23  2016-03-31T00:00:00              1   \n",
       " 101438              3866               23  2016-03-31T00:00:00              0   \n",
       " 101439              3872               23  2016-03-31T00:00:00              1   \n",
       " 101440              3876               23  2016-03-31T00:00:00              1   \n",
       " 101441              3882               23  2016-03-31T00:00:00              1   \n",
       " \n",
       "         WindSpeed  WindGust  Visibility  ScreenTemperature  Pressure  \\\n",
       " 0              23      30.0     16000.0              -99.0       NaN   \n",
       " 1              26      34.0      5000.0                4.9    1004.0   \n",
       " 2              30      40.0      5000.0                5.1    1003.0   \n",
       " 3              21      29.0      5000.0                5.1    1001.0   \n",
       " 4              25      34.0      2400.0                8.6     994.0   \n",
       " ...           ...       ...         ...                ...       ...   \n",
       " 101437          5       NaN     22000.0                4.9    1019.0   \n",
       " 101438         10       NaN         NaN                8.4    1018.0   \n",
       " 101439          2       NaN     50000.0                3.5    1019.0   \n",
       " 101440          3       NaN         NaN                6.1    1019.0   \n",
       " 101441          2       NaN     35000.0                3.7    1019.0   \n",
       " \n",
       "         SignificantWeatherCode                      SiteName  Latitude  \\\n",
       " 0                            8             BALTASOUND (3002)   60.7490   \n",
       " 1                           12    LERWICK (S. SCREEN) (3005)   60.1390   \n",
       " 2                           11              FAIR ISLE (3008)   59.5300   \n",
       " 3                           15               KIRKWALL (3017)   58.9540   \n",
       " 4                           12       SOUTH UIST RANGE (3023)   57.3580   \n",
       " ...                        ...                           ...       ...   \n",
       " 101437                       0                MANSTON (3797)   51.3422   \n",
       " 101438                     -99      ST CATHERINES PT. (3866)   50.5770   \n",
       " 101439                       0         THORNEY ISLAND (3872)   50.8200   \n",
       " 101440                     -99               SHOREHAM (3876)   50.8360   \n",
       " 101441                       0  HERSTMONCEUX WEST END (3882)   50.8900   \n",
       " \n",
       "         Longitude                       Region   Country  \n",
       " 0         -0.8540            Orkney & Shetland  SCOTLAND  \n",
       " 1         -1.1830            Orkney & Shetland  SCOTLAND  \n",
       " 2         -1.6300            Orkney & Shetland       NaN  \n",
       " 3         -2.9000            Orkney & Shetland  SCOTLAND  \n",
       " 4         -7.3970       Highland & Eilean Siar  SCOTLAND  \n",
       " ...           ...                          ...       ...  \n",
       " 101437     1.3461  London & South East England   ENGLAND  \n",
       " 101438    -1.2970  London & South East England   ENGLAND  \n",
       " 101439    -0.9200  London & South East England       NaN  \n",
       " 101440    -0.2920  London & South East England   ENGLAND  \n",
       " 101441     0.3190  London & South East England   ENGLAND  \n",
       " \n",
       " [101442 rows x 15 columns]]"
      ]
     },
     "execution_count": 18,
     "metadata": {},
     "output_type": "execute_result"
    }
   ],
   "source": [
    "dfs = list(map(read_csv, files))\n",
    "dfs"
   ]
  },
  {
   "cell_type": "markdown",
   "metadata": {},
   "source": [
    "Use the first table to create schema for the writer"
   ]
  },
  {
   "cell_type": "code",
   "execution_count": 19,
   "metadata": {},
   "outputs": [],
   "source": [
    "table = pa.Table.from_pandas(dfs[0], preserve_index=False)\n",
    "writer = pq.ParquetWriter('weather-rowgroups.parquet', table.schema)"
   ]
  },
  {
   "cell_type": "code",
   "execution_count": 21,
   "metadata": {},
   "outputs": [
    {
     "data": {
      "text/plain": [
       "pyarrow.Table\n",
       "ForecastSiteCode: int64\n",
       "ObservationTime: int64\n",
       "ObservationDate: string\n",
       "WindDirection: int64\n",
       "WindSpeed: int64\n",
       "WindGust: double\n",
       "Visibility: double\n",
       "ScreenTemperature: double\n",
       "Pressure: double\n",
       "SignificantWeatherCode: int64\n",
       "SiteName: string\n",
       "Latitude: double\n",
       "Longitude: double\n",
       "Region: string\n",
       "Country: string"
      ]
     },
     "execution_count": 21,
     "metadata": {},
     "output_type": "execute_result"
    }
   ],
   "source": [
    "table"
   ]
  },
  {
   "cell_type": "markdown",
   "metadata": {},
   "source": [
    "Using Writer and the dataframes to create table"
   ]
  },
  {
   "cell_type": "code",
   "execution_count": 22,
   "metadata": {},
   "outputs": [],
   "source": [
    "for df in dfs:\n",
    "    table = pa.Table.from_pandas(df, preserve_index=False)\n",
    "    writer.write_table(table)\n",
    "writer.close()"
   ]
  },
  {
   "cell_type": "markdown",
   "metadata": {},
   "source": [
    "Some analysis on the parquet file and its row groups to identify characteristics of our data structure"
   ]
  },
  {
   "cell_type": "code",
   "execution_count": 23,
   "metadata": {},
   "outputs": [],
   "source": [
    "filename = \"weather-rowgroups.parquet\"\n",
    "pq_file = pq.ParquetFile(filename)"
   ]
  },
  {
   "cell_type": "code",
   "execution_count": 24,
   "metadata": {},
   "outputs": [
    {
     "data": {
      "text/plain": [
       "[[0, 93255, 537181], [1, 101442, 560608]]"
      ]
     },
     "execution_count": 24,
     "metadata": {},
     "output_type": "execute_result"
    }
   ],
   "source": [
    "data = []\n",
    "for rg in range(pq_file.metadata.num_row_groups):\n",
    "    rg_meta = pq_file.metadata.row_group(rg)\n",
    "    data.append([rg, rg_meta.num_rows, rg_meta.total_byte_size])\n",
    "data"
   ]
  },
  {
   "cell_type": "code",
   "execution_count": 26,
   "metadata": {},
   "outputs": [
    {
     "data": {
      "text/plain": [
       "194697"
      ]
     },
     "execution_count": 26,
     "metadata": {},
     "output_type": "execute_result"
    }
   ],
   "source": [
    "# To get number of rows\n",
    "pq_file.metadata.num_rows"
   ]
  },
  {
   "cell_type": "code",
   "execution_count": 27,
   "metadata": {},
   "outputs": [
    {
     "data": {
      "text/plain": [
       "15"
      ]
     },
     "execution_count": 27,
     "metadata": {},
     "output_type": "execute_result"
    }
   ],
   "source": [
    "# To get number of columns\n",
    "pq_file.metadata.num_columns"
   ]
  },
  {
   "cell_type": "code",
   "execution_count": 28,
   "metadata": {},
   "outputs": [
    {
     "data": {
      "text/plain": [
       "<pyarrow._parquet.ColumnChunkMetaData object at 0x000001DD36E0C130>\n",
       "  file_offset: 913160\n",
       "  file_path: \n",
       "  physical_type: DOUBLE\n",
       "  num_values: 101442\n",
       "  path_in_schema: ScreenTemperature\n",
       "  is_stats_set: True\n",
       "  statistics:\n",
       "    <pyarrow._parquet.Statistics object at 0x000001DD36E0CD60>\n",
       "      has_min_max: True\n",
       "      min: -99.0\n",
       "      max: 15.8\n",
       "      null_count: 0\n",
       "      distinct_count: 0\n",
       "      num_values: 101442\n",
       "      physical_type: DOUBLE\n",
       "      logical_type: None\n",
       "      converted_type (legacy): NONE\n",
       "  compression: SNAPPY\n",
       "  encodings: ('PLAIN_DICTIONARY', 'PLAIN', 'RLE')\n",
       "  has_dictionary_page: True\n",
       "  dictionary_page_offset: 810485\n",
       "  data_page_offset: 811425\n",
       "  total_compressed_size: 102675\n",
       "  total_uncompressed_size: 103687"
      ]
     },
     "execution_count": 28,
     "metadata": {},
     "output_type": "execute_result"
    }
   ],
   "source": [
    "# To get metadata of column\n",
    "rg_meta.column(7)"
   ]
  },
  {
   "cell_type": "markdown",
   "metadata": {},
   "source": [
    "Find min and max statistics of a column for each row group"
   ]
  },
  {
   "cell_type": "code",
   "execution_count": 29,
   "metadata": {},
   "outputs": [
    {
     "name": "stdout",
     "output_type": "stream",
     "text": [
      "[['rowgroup', 'min', 'max'], [0, '-99.0', '15.6'], [1, '-99.0', '15.8']]\n"
     ]
    }
   ],
   "source": [
    "column = 7\n",
    "data = [[\"rowgroup\", \"min\", \"max\"]]\n",
    "\n",
    "for rg in range(pq_file.metadata.num_row_groups):\n",
    "    rg_meta = pq_file.metadata.row_group(rg)\n",
    "    data.append([rg, str(rg_meta.column(column).statistics.min), str(rg_meta.column(column).statistics.max)])\n",
    "    \n",
    "print(data)\n"
   ]
  },
  {
   "cell_type": "code",
   "execution_count": 30,
   "metadata": {},
   "outputs": [
    {
     "data": {
      "text/plain": [
       "15.8"
      ]
     },
     "execution_count": 30,
     "metadata": {},
     "output_type": "execute_result"
    }
   ],
   "source": [
    "rg_meta.column(column).statistics.max"
   ]
  },
  {
   "cell_type": "markdown",
   "metadata": {},
   "source": [
    "Using the maximum tempreture to filter our tour data and columns to avoid fetching extra data and limit the load to what we really need."
   ]
  },
  {
   "cell_type": "code",
   "execution_count": 10,
   "metadata": {},
   "outputs": [
    {
     "name": "stderr",
     "output_type": "stream",
     "text": [
      "C:\\Users\\Sam\\anaconda3\\lib\\site-packages\\pyarrow\\compat.py:24: FutureWarning: pyarrow.compat has been deprecated and will be removed in a future release\n",
      "  warnings.warn(\"pyarrow.compat has been deprecated and will be removed in a \"\n"
     ]
    }
   ],
   "source": [
    "df = dd.read_parquet(\"weather-rowgroups.parquet\", columns=['ObservationDate', 'Region', 'ScreenTemperature'])\n"
   ]
  },
  {
   "cell_type": "code",
   "execution_count": 11,
   "metadata": {},
   "outputs": [],
   "source": [
    "df = df[df.ScreenTemperature == 15.8]"
   ]
  },
  {
   "cell_type": "code",
   "execution_count": 12,
   "metadata": {},
   "outputs": [
    {
     "data": {
      "text/html": [
       "<div>\n",
       "<style scoped>\n",
       "    .dataframe tbody tr th:only-of-type {\n",
       "        vertical-align: middle;\n",
       "    }\n",
       "\n",
       "    .dataframe tbody tr th {\n",
       "        vertical-align: top;\n",
       "    }\n",
       "\n",
       "    .dataframe thead th {\n",
       "        text-align: right;\n",
       "    }\n",
       "</style>\n",
       "<table border=\"1\" class=\"dataframe\">\n",
       "  <thead>\n",
       "    <tr style=\"text-align: right;\">\n",
       "      <th></th>\n",
       "      <th>ObservationDate</th>\n",
       "      <th>Region</th>\n",
       "      <th>ScreenTemperature</th>\n",
       "    </tr>\n",
       "  </thead>\n",
       "  <tbody>\n",
       "    <tr>\n",
       "      <th>147768</th>\n",
       "      <td>2016-03-17T00:00:00</td>\n",
       "      <td>Highland &amp; Eilean Siar</td>\n",
       "      <td>15.8</td>\n",
       "    </tr>\n",
       "  </tbody>\n",
       "</table>\n",
       "</div>"
      ],
      "text/plain": [
       "            ObservationDate                  Region  ScreenTemperature\n",
       "147768  2016-03-17T00:00:00  Highland & Eilean Siar               15.8"
      ]
     },
     "execution_count": 12,
     "metadata": {},
     "output_type": "execute_result"
    }
   ],
   "source": [
    "df.compute()"
   ]
  },
  {
   "cell_type": "markdown",
   "metadata": {},
   "source": [
    "# Result\n",
    "\n",
    "Hottest day =  2016-03-17T00:00:00\t\n",
    "\n",
    "Tempreture on that day = 15.8\n",
    "\n",
    "Region = Highland & Eilean Siar\t\n"
   ]
  },
  {
   "cell_type": "code",
   "execution_count": null,
   "metadata": {},
   "outputs": [],
   "source": []
  }
 ],
 "metadata": {
  "kernelspec": {
   "display_name": "direct_line_group2",
   "language": "python",
   "name": "direct_line_group2"
  },
  "language_info": {
   "codemirror_mode": {
    "name": "ipython",
    "version": 3
   },
   "file_extension": ".py",
   "mimetype": "text/x-python",
   "name": "python",
   "nbconvert_exporter": "python",
   "pygments_lexer": "ipython3",
   "version": "3.8.3"
  }
 },
 "nbformat": 4,
 "nbformat_minor": 4
}
